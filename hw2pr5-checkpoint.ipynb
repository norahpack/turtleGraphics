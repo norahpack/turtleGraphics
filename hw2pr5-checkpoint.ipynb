{
 "cells": [
  {
   "cell_type": "code",
   "execution_count": 3,
   "metadata": {},
   "outputs": [],
   "source": [
    "#\n",
    "# hw2pr1.ipynb\n",
    "#\n",
    "# Name:\n",
    "#\n",
    "# Turtle graphics and recursion\n",
    "#\n",
    "\n",
    "from random import *\n",
    "from newTurtle import *"
   ]
  },
  {
   "cell_type": "code",
   "execution_count": 19,
   "metadata": {
    "scrolled": true
   },
   "outputs": [
    {
     "data": {
      "application/vnd.jupyter.widget-view+json": {
       "model_id": "dd39ccba9dcd445490840e5e5dff792b",
       "version_major": 2,
       "version_minor": 0
      },
      "text/plain": [
       "Turtle()"
      ]
     },
     "metadata": {},
     "output_type": "display_data"
    }
   ],
   "source": [
    "#The svtree function...\n",
    "from random import *\n",
    "from newTurtle import *\n",
    "t = Turtle()\n",
    "t.speed(10)\n",
    "\n",
    "def myDrawing(n, d):\n",
    "    \"\"\"\n",
    "    n can be any integer, between 15 and 35 for best results.\n",
    "    d should be a degree value between 0 and 90, multiple of 8.\n",
    "    This makes a fun squiggly line that gets smaller and smaller as you go.\n",
    "    \"\"\"\n",
    "    if n <= 1:\n",
    "        return\n",
    "    else:\n",
    "        t.forward(n)\n",
    "        t.right(d)\n",
    "        t.forward(n)\n",
    "        t.right(d/2)\n",
    "        t.forward(n)\n",
    "        t.right(d/4)\n",
    "        t.forward(n)\n",
    "        t.right(d/8)\n",
    "        t.forward(n)\n",
    "        t.left(d/8)\n",
    "        t.forward(n)\n",
    "        t.left(d/4)\n",
    "        t.forward(n)\n",
    "        t.left(d/2)\n",
    "        t.forward(n)\n",
    "        t.left(d)\n",
    "        t.forward(n)\n",
    "        \n",
    "        myDrawing((n/2), d)\n",
    "        \n",
    "        \n",
    "# example setup + call:\n",
    "#\n",
    "t.penup()\n",
    "t.left(90)  # start a bit to the left\n",
    "t.forward(200)\n",
    "t.right(90)\n",
    "t.pencolor('DarkGreen')  # tree-y\n",
    "t.pendown()\n",
    "myDrawing(35,80)    # initial trunk == 100, 4 recursive levels"
   ]
  },
  {
   "cell_type": "code",
   "execution_count": 66,
   "metadata": {},
   "outputs": [
    {
     "data": {
      "application/vnd.jupyter.widget-view+json": {
       "model_id": "3ed220880570427f9e0b932415e147e8",
       "version_major": 2,
       "version_minor": 0
      },
      "text/plain": [
       "Turtle()"
      ]
     },
     "metadata": {},
     "output_type": "display_data"
    },
    {
     "name": "stdout",
     "output_type": "stream",
     "text": [
      "3\n",
      "2\n",
      "1\n",
      "0\n",
      "3\n",
      "2\n",
      "1\n",
      "0\n",
      "3\n",
      "2\n",
      "1\n",
      "0\n",
      "3\n",
      "2\n",
      "1\n",
      "0\n",
      "3\n",
      "2\n",
      "1\n",
      "0\n",
      "3\n",
      "2\n",
      "1\n",
      "0\n",
      "3\n",
      "2\n",
      "1\n",
      "0\n",
      "3\n",
      "2\n",
      "1\n",
      "0\n",
      "3\n",
      "2\n",
      "1\n",
      "0\n",
      "3\n",
      "2\n",
      "1\n",
      "0\n",
      "3\n",
      "2\n",
      "1\n",
      "0\n",
      "3\n",
      "2\n",
      "1\n",
      "0\n",
      "3\n",
      "2\n",
      "1\n",
      "0\n",
      "3\n",
      "2\n",
      "1\n",
      "0\n",
      "3\n",
      "2\n",
      "1\n",
      "0\n",
      "3\n",
      "2\n",
      "1\n",
      "0\n"
     ]
    }
   ],
   "source": [
    "#The svtree function...\n",
    "t = Turtle()\n",
    "t.speed(10)\n",
    "\n",
    "def svtree(trunklength, levels):\n",
    "    \"\"\"svtree: draws a side-view tree\n",
    "       trunklength = the length of the first line drawn (\"the trunk\")\n",
    "       levels = the depth of recursion to which it continues branching\n",
    "    \"\"\"\n",
    "    num_littles=(2**(levels-1))\n",
    "    t.forward(trunklength)\n",
    "    binary_up_down=[]\n",
    "    \n",
    "        \n",
    "    \n",
    "    for i in range(num_littles):\n",
    "        binary=(bin(i))[2:]\n",
    "        numZero=(levels-1)-len(binary)\n",
    "        binary=\"0\"*numZero+binary\n",
    "        binary_up_down.append(binary)\n",
    "    \n",
    "    for i in range(len(binary_up_down)):\n",
    "        for j in range(len(binary_up_down[0])):\n",
    "            #print(j)\n",
    "            if(binary_up_down[i][j]==\"0\"):\n",
    "                t.left(20)\n",
    "                t.forward(trunklength/(2**(j+1)))\n",
    "            if(binary_up_down[i][j]==\"1\"):\n",
    "                t.right(20)\n",
    "                t.forward(trunklength/(2**(j+1)))\n",
    "                \n",
    "        for j in range(len(binary_up_down[0])):\n",
    "            #print(len(binary_up_down[0]))\n",
    "            k=((len(binary_up_down[0]))-(j+1))\n",
    "            print(k)\n",
    "            if(binary_up_down[i][k]==\"0\"):\n",
    "                \n",
    "                t.backward(trunklength/(2**(k+1)))\n",
    "                t.right(20)\n",
    "            if(binary_up_down[i][k]==\"1\"):\n",
    "                \n",
    "                t.backward(trunklength/(2**(k+1)))\n",
    "                t.left(20)\n",
    "        \n",
    "        \n",
    "        \n",
    "# example setup + call:\n",
    "#\n",
    "t.penup()\n",
    "t.backward(150)  # start a bit to the left\n",
    "t.pendown()\n",
    "# t.pencolor('DarkGreen')  # tree-y\n",
    "svtree(100,5)    # initial trunk == 100, 4 recursive levels"
   ]
  },
  {
   "cell_type": "code",
   "execution_count": null,
   "metadata": {},
   "outputs": [],
   "source": []
  }
 ],
 "metadata": {
  "kernelspec": {
   "display_name": "Python 3",
   "language": "python",
   "name": "python3"
  },
  "language_info": {
   "codemirror_mode": {
    "name": "ipython",
    "version": 3
   },
   "file_extension": ".py",
   "mimetype": "text/x-python",
   "name": "python",
   "nbconvert_exporter": "python",
   "pygments_lexer": "ipython3",
   "version": "3.8.8"
  }
 },
 "nbformat": 4,
 "nbformat_minor": 2
}
