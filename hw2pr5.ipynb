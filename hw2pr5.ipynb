{
 "cells": [
  {
   "cell_type": "code",
   "execution_count": 3,
   "source": [
    "#\n",
    "# hw2pr1.ipynb\n",
    "#\n",
    "# Name:\n",
    "#\n",
    "# Turtle graphics and recursion\n",
    "#\n",
    "\n",
    "from random import *\n",
    "from newTurtle import *"
   ],
   "outputs": [],
   "metadata": {}
  },
  {
   "cell_type": "code",
   "execution_count": 19,
   "source": [
    "#The svtree function...\n",
    "from random import *\n",
    "from newTurtle import *\n",
    "t = Turtle()\n",
    "t.speed(10)\n",
    "\n",
    "def myDrawing(n, d):\n",
    "    \"\"\"\n",
    "    n can be any integer, between 15 and 35 for best results.\n",
    "    d should be a degree value between 0 and 90, multiple of 8.\n",
    "    This makes a fun squiggly line that gets smaller and smaller as you go.\n",
    "    \"\"\"\n",
    "    if n <= 1:\n",
    "        return\n",
    "    else:\n",
    "        t.forward(n)\n",
    "        t.right(d)\n",
    "        t.forward(n)\n",
    "        t.right(d/2)\n",
    "        t.forward(n)\n",
    "        t.right(d/4)\n",
    "        t.forward(n)\n",
    "        t.right(d/8)\n",
    "        t.forward(n)\n",
    "        t.left(d/8)\n",
    "        t.forward(n)\n",
    "        t.left(d/4)\n",
    "        t.forward(n)\n",
    "        t.left(d/2)\n",
    "        t.forward(n)\n",
    "        t.left(d)\n",
    "        t.forward(n)\n",
    "        \n",
    "        myDrawing((n/2), d)\n",
    "        \n",
    "        \n",
    "# example setup + call:\n",
    "#\n",
    "t.penup()\n",
    "t.left(90)  # start a bit to the left\n",
    "t.forward(200)\n",
    "t.right(90)\n",
    "t.pencolor('DarkGreen')  # tree-y\n",
    "t.pendown()\n",
    "myDrawing(35,80)    # initial trunk == 100, 4 recursive levels"
   ],
   "outputs": [
    {
     "output_type": "display_data",
     "data": {
      "application/vnd.jupyter.widget-view+json": {
       "model_id": "dd39ccba9dcd445490840e5e5dff792b",
       "version_major": 2,
       "version_minor": 0
      },
      "text/plain": [
       "Turtle()"
      ]
     },
     "metadata": {}
    }
   ],
   "metadata": {
    "scrolled": true
   }
  },
  {
   "cell_type": "code",
   "execution_count": 66,
   "source": [
    "#The svtree function...\r\n",
    "t = Turtle()\r\n",
    "t.speed(10)\r\n",
    "\r\n",
    "def svtree(trunklength, levels):\r\n",
    "    \"\"\"svtree: draws a side-view tree WITHOUT RECURSION\r\n",
    "       trunklength = the length of the first line drawn (\"the trunk\")\r\n",
    "       levels = the depth of recursion to which it continues branching\r\n",
    "    \"\"\"\r\n",
    "    num_littles=(2**(levels-1))\r\n",
    "    t.forward(trunklength)\r\n",
    "    binary_up_down=[]\r\n",
    "    \r\n",
    "        \r\n",
    "    \r\n",
    "    for i in range(num_littles):\r\n",
    "        binary=(bin(i))[2:]\r\n",
    "        numZero=(levels-1)-len(binary)\r\n",
    "        binary=\"0\"*numZero+binary\r\n",
    "        binary_up_down.append(binary)\r\n",
    "    \r\n",
    "    for i in range(len(binary_up_down)):\r\n",
    "        for j in range(len(binary_up_down[0])):\r\n",
    "            #print(j)\r\n",
    "            if(binary_up_down[i][j]==\"0\"):\r\n",
    "                t.left(20)\r\n",
    "                t.forward(trunklength/(2**(j+1)))\r\n",
    "            if(binary_up_down[i][j]==\"1\"):\r\n",
    "                t.right(20)\r\n",
    "                t.forward(trunklength/(2**(j+1)))\r\n",
    "                \r\n",
    "        for j in range(len(binary_up_down[0])):\r\n",
    "            #print(len(binary_up_down[0]))\r\n",
    "            k=((len(binary_up_down[0]))-(j+1))\r\n",
    "            print(k)\r\n",
    "            if(binary_up_down[i][k]==\"0\"):\r\n",
    "                \r\n",
    "                t.backward(trunklength/(2**(k+1)))\r\n",
    "                t.right(20)\r\n",
    "            if(binary_up_down[i][k]==\"1\"):\r\n",
    "                \r\n",
    "                t.backward(trunklength/(2**(k+1)))\r\n",
    "                t.left(20)\r\n",
    "        \r\n",
    "        \r\n",
    "        \r\n",
    "# example setup + call:\r\n",
    "#\r\n",
    "t.penup()\r\n",
    "t.backward(150)  # start a bit to the left\r\n",
    "t.pendown()\r\n",
    "# t.pencolor('DarkGreen')  # tree-y\r\n",
    "svtree(100,5)    # initial trunk == 100, 4 recursive levels"
   ],
   "outputs": [
    {
     "output_type": "display_data",
     "data": {
      "application/vnd.jupyter.widget-view+json": {
       "model_id": "3ed220880570427f9e0b932415e147e8",
       "version_major": 2,
       "version_minor": 0
      },
      "text/plain": [
       "Turtle()"
      ]
     },
     "metadata": {}
    },
    {
     "output_type": "stream",
     "name": "stdout",
     "text": [
      "3\n",
      "2\n",
      "1\n",
      "0\n",
      "3\n",
      "2\n",
      "1\n",
      "0\n",
      "3\n",
      "2\n",
      "1\n",
      "0\n",
      "3\n",
      "2\n",
      "1\n",
      "0\n",
      "3\n",
      "2\n",
      "1\n",
      "0\n",
      "3\n",
      "2\n",
      "1\n",
      "0\n",
      "3\n",
      "2\n",
      "1\n",
      "0\n",
      "3\n",
      "2\n",
      "1\n",
      "0\n",
      "3\n",
      "2\n",
      "1\n",
      "0\n",
      "3\n",
      "2\n",
      "1\n",
      "0\n",
      "3\n",
      "2\n",
      "1\n",
      "0\n",
      "3\n",
      "2\n",
      "1\n",
      "0\n",
      "3\n",
      "2\n",
      "1\n",
      "0\n",
      "3\n",
      "2\n",
      "1\n",
      "0\n",
      "3\n",
      "2\n",
      "1\n",
      "0\n",
      "3\n",
      "2\n",
      "1\n",
      "0\n"
     ]
    }
   ],
   "metadata": {}
  },
  {
   "cell_type": "code",
   "execution_count": null,
   "source": [],
   "outputs": [],
   "metadata": {}
  }
 ],
 "metadata": {
  "kernelspec": {
   "display_name": "Python 3",
   "language": "python",
   "name": "python3"
  },
  "language_info": {
   "codemirror_mode": {
    "name": "ipython",
    "version": 3
   },
   "file_extension": ".py",
   "mimetype": "text/x-python",
   "name": "python",
   "nbconvert_exporter": "python",
   "pygments_lexer": "ipython3",
   "version": "3.8.8"
  }
 },
 "nbformat": 4,
 "nbformat_minor": 2
}